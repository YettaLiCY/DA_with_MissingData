{
 "cells": [
  {
   "cell_type": "code",
   "execution_count": 14,
   "metadata": {},
   "outputs": [],
   "source": [
    "import pandas as pd\n",
    "\n",
    "df = pd.read_csv('Merge.csv')\n",
    "# print(df.info())\n",
    "# print(df.describe())\n",
    "df['datetime'] = pd.to_datetime(df['datetime'])"
   ]
  },
  {
   "cell_type": "code",
   "execution_count": 15,
   "metadata": {},
   "outputs": [
    {
     "name": "stdout",
     "output_type": "stream",
     "text": [
      "         datetime  user_id   quantity\n",
      "user_id                              \n",
      "0             391       10   0.153989\n",
      "1            1385        7  38.541973\n",
      "2               9        1  14.504651\n",
      "3             915       15  36.900266\n",
      "4             965        5  24.731777\n"
     ]
    }
   ],
   "source": [
    "df_rfm = df.groupby('user_id').agg({\n",
    "    'datetime':\n",
    "    lambda x: (pd.to_datetime('2020-12-31') - x.max()).days,\n",
    "    'user_id':\n",
    "    lambda x: len(x),\n",
    "    'quantity':\n",
    "    lambda x: x.sum()\n",
    "})\n",
    "print(df_rfm.head())"
   ]
  },
  {
   "cell_type": "code",
   "execution_count": 16,
   "metadata": {},
   "outputs": [
    {
     "name": "stdout",
     "output_type": "stream",
     "text": [
      "            R   F          M\n",
      "user_id                     \n",
      "0         391  10   0.153989\n",
      "1        1385   7  38.541973\n",
      "2           9   1  14.504651\n",
      "3         915  15  36.900266\n",
      "4         965   5  24.731777\n"
     ]
    }
   ],
   "source": [
    "df_rfm.rename(columns={\n",
    "    'datetime': 'R',\n",
    "    'user_id': 'F',\n",
    "    'quantity': 'M'\n",
    "},\n",
    "              inplace=True)\n",
    "print(df_rfm.head())"
   ]
  },
  {
   "cell_type": "code",
   "execution_count": 17,
   "metadata": {},
   "outputs": [
    {
     "data": {
      "text/html": [
       "<div>\n",
       "<style scoped>\n",
       "    .dataframe tbody tr th:only-of-type {\n",
       "        vertical-align: middle;\n",
       "    }\n",
       "\n",
       "    .dataframe tbody tr th {\n",
       "        vertical-align: top;\n",
       "    }\n",
       "\n",
       "    .dataframe thead th {\n",
       "        text-align: right;\n",
       "    }\n",
       "</style>\n",
       "<table border=\"1\" class=\"dataframe\">\n",
       "  <thead>\n",
       "    <tr style=\"text-align: right;\">\n",
       "      <th></th>\n",
       "      <th>R</th>\n",
       "      <th>F</th>\n",
       "      <th>M</th>\n",
       "    </tr>\n",
       "  </thead>\n",
       "  <tbody>\n",
       "    <tr>\n",
       "      <th>count</th>\n",
       "      <td>486.000000</td>\n",
       "      <td>486.000000</td>\n",
       "      <td>486.000000</td>\n",
       "    </tr>\n",
       "    <tr>\n",
       "      <th>mean</th>\n",
       "      <td>387.277778</td>\n",
       "      <td>298.755144</td>\n",
       "      <td>969.494308</td>\n",
       "    </tr>\n",
       "    <tr>\n",
       "      <th>std</th>\n",
       "      <td>482.446342</td>\n",
       "      <td>800.146226</td>\n",
       "      <td>2821.494019</td>\n",
       "    </tr>\n",
       "    <tr>\n",
       "      <th>min</th>\n",
       "      <td>0.000000</td>\n",
       "      <td>1.000000</td>\n",
       "      <td>0.028468</td>\n",
       "    </tr>\n",
       "    <tr>\n",
       "      <th>25%</th>\n",
       "      <td>9.000000</td>\n",
       "      <td>18.000000</td>\n",
       "      <td>51.150363</td>\n",
       "    </tr>\n",
       "    <tr>\n",
       "      <th>50%</th>\n",
       "      <td>93.000000</td>\n",
       "      <td>61.500000</td>\n",
       "      <td>229.517501</td>\n",
       "    </tr>\n",
       "    <tr>\n",
       "      <th>75%</th>\n",
       "      <td>820.000000</td>\n",
       "      <td>249.750000</td>\n",
       "      <td>761.991371</td>\n",
       "    </tr>\n",
       "    <tr>\n",
       "      <th>max</th>\n",
       "      <td>1458.000000</td>\n",
       "      <td>9138.000000</td>\n",
       "      <td>32768.883857</td>\n",
       "    </tr>\n",
       "  </tbody>\n",
       "</table>\n",
       "</div>"
      ],
      "text/plain": [
       "                 R            F             M\n",
       "count   486.000000   486.000000    486.000000\n",
       "mean    387.277778   298.755144    969.494308\n",
       "std     482.446342   800.146226   2821.494019\n",
       "min       0.000000     1.000000      0.028468\n",
       "25%       9.000000    18.000000     51.150363\n",
       "50%      93.000000    61.500000    229.517501\n",
       "75%     820.000000   249.750000    761.991371\n",
       "max    1458.000000  9138.000000  32768.883857"
      ]
     },
     "execution_count": 17,
     "metadata": {},
     "output_type": "execute_result"
    }
   ],
   "source": [
    "df_rfm.describe()"
   ]
  },
  {
   "cell_type": "code",
   "execution_count": 19,
   "metadata": {},
   "outputs": [
    {
     "name": "stdout",
     "output_type": "stream",
     "text": [
      "            R   F          M  r_score  f_score  m_score\n",
      "user_id                                                \n",
      "0         391  10   0.153989        2        4        4\n",
      "1        1385   7  38.541973        1        4        4\n",
      "2           9   1  14.504651        4        4        4\n",
      "3         915  15  36.900266        1        4        4\n",
      "4         965   5  24.731777        1        4        4\n"
     ]
    }
   ],
   "source": [
    "def r_score(x):\n",
    "    if x<=10:\n",
    "        return 4\n",
    "    elif x<=94:\n",
    "        return 3\n",
    "    elif x<=821:\n",
    "        return 2\n",
    "    else:\n",
    "        return 1\n",
    "\n",
    "def f_score(x):\n",
    "    if x<=19:\n",
    "        return 4\n",
    "    elif x<=62:\n",
    "        return 3\n",
    "    elif x<=250:\n",
    "        return 2\n",
    "    else:\n",
    "        return 1   \n",
    "    \n",
    "def m_score(x):\n",
    "    if x<=52:\n",
    "        return 4\n",
    "    elif x<=230:\n",
    "        return 3\n",
    "    elif x<=762:\n",
    "        return 2\n",
    "    else:\n",
    "        return 1\n",
    "\n",
    "df_rfm['r_score'] = df_rfm['R'].apply(r_score)\n",
    "df_rfm['f_score'] = df_rfm['F'].apply(f_score)\n",
    "df_rfm['m_score'] = df_rfm['M'].apply(m_score)\n",
    "print(df_rfm.head())"
   ]
  },
  {
   "cell_type": "code",
   "execution_count": 20,
   "metadata": {},
   "outputs": [
    {
     "name": "stdout",
     "output_type": "stream",
     "text": [
      "            R   F          M  r_score  f_score  m_score R高低 F高低 M高低\n",
      "user_id                                                            \n",
      "0         391  10   0.153989        2        4        4   低   高   高\n",
      "1        1385   7  38.541973        1        4        4   低   高   高\n",
      "2           9   1  14.504651        4        4        4   高   高   高\n",
      "3         915  15  36.900266        1        4        4   低   高   高\n",
      "4         965   5  24.731777        1        4        4   低   高   高\n"
     ]
    }
   ],
   "source": [
    "df_rfm['R高低'] = df_rfm['r_score'].apply(lambda x: '高' if x > df_rfm['r_score'].mean() else '低')\n",
    "df_rfm['F高低'] = df_rfm['f_score'].apply(lambda x: '高' if x > df_rfm['f_score'].mean() else '低')\n",
    "df_rfm['M高低'] = df_rfm['m_score'].apply(lambda x: '高' if x > df_rfm['m_score'].mean() else '低')\n",
    "print(df_rfm.head())"
   ]
  },
  {
   "cell_type": "code",
   "execution_count": 21,
   "metadata": {},
   "outputs": [
    {
     "name": "stdout",
     "output_type": "stream",
     "text": [
      "            R   F          M  r_score  f_score  m_score R高低 F高低 M高低  RFM  \\\n",
      "user_id                                                                    \n",
      "0         391  10   0.153989        2        4        4   低   高   高  低高高   \n",
      "1        1385   7  38.541973        1        4        4   低   高   高  低高高   \n",
      "2           9   1  14.504651        4        4        4   高   高   高  高高高   \n",
      "3         915  15  36.900266        1        4        4   低   高   高  低高高   \n",
      "4         965   5  24.731777        1        4        4   低   高   高  低高高   \n",
      "\n",
      "           用户类型  \n",
      "user_id          \n",
      "0        重要唤回用户  \n",
      "1        重要唤回用户  \n",
      "2        重要价值用户  \n",
      "3        重要唤回用户  \n",
      "4        重要唤回用户  \n"
     ]
    }
   ],
   "source": [
    "df_rfm['RFM'] = df_rfm['R高低'] + df_rfm['F高低'] + df_rfm['M高低']\n",
    "# 将 R 高低、F 高低 和 M 高低 加起来, 也就是拼接成 高低高 这种字符串\n",
    "# 这样直接分析 RFM 这列的字符串排列就能知道该用户是哪种类型的:\n",
    "def rfm_type(x):\n",
    "  if x == '高高高':\n",
    "    return '重要价值用户'\n",
    "  elif x == '低高高':\n",
    "    return '重要唤回用户'\n",
    "  elif x == '高低高':\n",
    "    return '重要深耕用户'\n",
    "  elif x == '低低高':\n",
    "    return '重要挽留用户'\n",
    "  elif x == '高高低':\n",
    "    return '潜力用户'\n",
    "  elif x == '高低低':\n",
    "    return '新用户'\n",
    "  elif x == '低高低':\n",
    "    return '一般维持用户'\n",
    "  elif x == '低低低':\n",
    "    return '流失用户'\n",
    "\n",
    "df_rfm['用户类型'] = df_rfm['RFM'].apply(rfm_type)\n",
    "print(df_rfm.head())"
   ]
  },
  {
   "cell_type": "code",
   "execution_count": 22,
   "metadata": {},
   "outputs": [
    {
     "data": {
      "text/plain": [
       "新用户       184\n",
       "重要唤回用户    174\n",
       "重要价值用户     48\n",
       "流失用户       36\n",
       "一般维持用户     14\n",
       "重要深耕用户     13\n",
       "潜力用户        9\n",
       "重要挽留用户      8\n",
       "Name: 用户类型, dtype: int64"
      ]
     },
     "execution_count": 22,
     "metadata": {},
     "output_type": "execute_result"
    }
   ],
   "source": [
    "# (1) 首先看看每种类型的用户分别有多少人\n",
    "df_rfm['用户类型'].value_counts()"
   ]
  },
  {
   "cell_type": "code",
   "execution_count": 23,
   "metadata": {},
   "outputs": [
    {
     "name": "stdout",
     "output_type": "stream",
     "text": [
      "    index  用户类型\n",
      "0     新用户   184\n",
      "1  重要唤回用户   174\n",
      "2  重要价值用户    48\n",
      "3    流失用户    36\n",
      "4  一般维持用户    14\n",
      "5  重要深耕用户    13\n",
      "6    潜力用户     9\n",
      "7  重要挽留用户     8\n"
     ]
    }
   ],
   "source": [
    "df_count = df_rfm['用户类型'].value_counts().reset_index()\n",
    "print(df_count)"
   ]
  },
  {
   "cell_type": "code",
   "execution_count": 24,
   "metadata": {},
   "outputs": [
    {
     "name": "stdout",
     "output_type": "stream",
     "text": [
      "     用户类型   人数\n",
      "0     新用户  184\n",
      "1  重要唤回用户  174\n",
      "2  重要价值用户   48\n",
      "3    流失用户   36\n",
      "4  一般维持用户   14\n",
      "5  重要深耕用户   13\n",
      "6    潜力用户    9\n",
      "7  重要挽留用户    8\n"
     ]
    }
   ],
   "source": [
    "df_count.rename(columns={'index': '用户类型', '用户类型': '人数'}, inplace=True)\n",
    "print(df_count)"
   ]
  },
  {
   "cell_type": "code",
   "execution_count": 25,
   "metadata": {},
   "outputs": [
    {
     "name": "stdout",
     "output_type": "stream",
     "text": [
      "     用户类型   人数        占比\n",
      "0     新用户  184  0.378601\n",
      "1  重要唤回用户  174  0.358025\n",
      "2  重要价值用户   48  0.098765\n",
      "3    流失用户   36  0.074074\n",
      "4  一般维持用户   14  0.028807\n",
      "5  重要深耕用户   13  0.026749\n",
      "6    潜力用户    9  0.018519\n",
      "7  重要挽留用户    8  0.016461\n"
     ]
    }
   ],
   "source": [
    "# 给表格再加一列, 计算出每种类型的用户的占比分别是多少\n",
    "df_count['占比'] = df_count['人数'] / df_count['人数'].sum()  # 人数 /总人数\n",
    "print(df_count)"
   ]
  },
  {
   "cell_type": "code",
   "execution_count": 76,
   "metadata": {},
   "outputs": [
    {
     "data": {
      "image/png": "[encoded data removed]",
      "text/plain": [
       "<Figure size 432x288 with 1 Axes>"
      ]
     },
     "metadata": {
      "needs_background": "light"
     },
     "output_type": "display_data"
    }
   ],
   "source": [
    "import matplotlib.pyplot as plt\n",
    "plt.rcParams['font.family'] = 'Heiti TC'\n",
    "\n",
    "pd.set_option('display.unicode.ambiguous_as_wide', True)\n",
    "pd.set_option('display.unicode.east_asian_width', True)\n",
    "\n",
    "df_count.plot(kind='bar', x='用户类型', y='人数', color='salmon')\n",
    "\n",
    "import numpy as np\n",
    "x = np.arange(8)\n",
    "\n",
    "for a,b in zip(x,df_count['人数']):\n",
    "    plt.text(a, b+0.001, '%.0f' % b, ha='center', va= 'bottom',fontsize=9)\n",
    "\n",
    "\n",
    "plt.show()  # 需要提前 import matplotlib.pyplot as plt"
   ]
  },
  {
   "cell_type": "code",
   "execution_count": 68,
   "metadata": {},
   "outputs": [
    {
     "data": {
      "image/png": "[encoded data removed]",
      "text/plain": [
       "<Figure size 432x288 with 1 Axes>"
      ]
     },
     "metadata": {
      "needs_background": "light"
     },
     "output_type": "display_data"
    }
   ],
   "source": [
    "width_val = 0.7\n",
    "bar1 = plt.bar(df_count['用户类型'],df_count['人数'], alpha=0.6, width = width_val, facecolor = 'salmon')\n",
    "\n",
    "# 添加数据标签 就是矩形上面的数值\n",
    "def add_labels(rects):\n",
    "    for rect in rects:\n",
    "        height = rect.get_height()\n",
    "        plt.text(rect.get_x() + rect.get_width()/2, height, height, ha='center', va='bottom')\n",
    "        rect.set_edgecolor('white')\n",
    " \n",
    "add_labels(bar1)\n",
    "\n",
    "plt.show()"
   ]
  },
  {
   "cell_type": "code",
   "execution_count": 43,
   "metadata": {},
   "outputs": [
    {
     "data": {
      "image/png": "[encoded data removed]",
      "text/plain": [
       "<Figure size 432x288 with 1 Axes>"
      ]
     },
     "metadata": {},
     "output_type": "display_data"
    }
   ],
   "source": [
    "plt.pie(x=df_count['人数'],\n",
    "        labels=df_count['用户类型'],\n",
    "        explode=[0.1, 0, 0, 0, 0, 0, 0, 0],\n",
    "        shadow=True,\n",
    "        autopct=\"%0.2f%%\",\n",
    "        colors=[(0.4, 0, 0),(0.5, 0, 0),(0.6, 0, 0),(0.7, 0, 0),(0.8, 0, 0),(0.9, 0, 0),(0.9, 0.1, 0),(0.9, 0.2, 0)]\n",
    "       )\n",
    "plt.show()"
   ]
  },
  {
   "cell_type": "code",
   "execution_count": null,
   "metadata": {},
   "outputs": [],
   "source": []
  }
 ],
 "metadata": {
  "kernelspec": {
   "display_name": "Python 3",
   "language": "python",
   "name": "python3"
  },
  "language_info": {
   "codemirror_mode": {
    "name": "ipython",
    "version": 3
   },
   "file_extension": ".py",
   "mimetype": "text/x-python",
   "name": "python",
   "nbconvert_exporter": "python",
   "pygments_lexer": "ipython3",
   "version": "3.8.5"
  }
 },
 "nbformat": 4,
 "nbformat_minor": 4
}
